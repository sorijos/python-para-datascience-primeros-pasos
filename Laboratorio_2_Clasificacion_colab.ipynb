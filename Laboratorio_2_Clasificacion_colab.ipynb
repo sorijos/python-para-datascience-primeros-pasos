{
  "nbformat": 4,
  "nbformat_minor": 0,
  "metadata": {
    "colab": {
      "provenance": [],
      "toc_visible": true,
      "include_colab_link": true
    },
    "kernelspec": {
      "display_name": "Python 3",
      "language": "python",
      "name": "python3"
    },
    "language_info": {
      "codemirror_mode": {
        "name": "ipython",
        "version": 3
      },
      "file_extension": ".py",
      "mimetype": "text/x-python",
      "name": "python",
      "nbconvert_exporter": "python",
      "pygments_lexer": "ipython3",
      "version": "3.7.3"
    }
  },
  "cells": [
    {
      "cell_type": "markdown",
      "metadata": {
        "id": "view-in-github",
        "colab_type": "text"
      },
      "source": [
        "<a href=\"https://colab.research.google.com/github/sorijos/python-para-datascience-primeros-pasos/blob/main/Laboratorio_2_Clasificacion_colab.ipynb\" target=\"_parent\"><img src=\"https://colab.research.google.com/assets/colab-badge.svg\" alt=\"Open In Colab\"/></a>"
      ]
    },
    {
      "cell_type": "markdown",
      "metadata": {
        "id": "4ht6MhhAKAJI"
      },
      "source": [
        "# Laboratorio 2: Clasificación\n",
        "\n",
        "_CC66N -- 7 de octubre de 2019_\n",
        "\n",
        "1. Haga una copia de este notebook y responda donde se indica\n",
        "2. Ejecute cada uno de los bloques de código, y modifíquelos según corresponda.\n",
        "2. Al final de la sesión, descargue este notebook como un archivo **.ipynb** y súbalo a U-Cursos."
      ]
    },
    {
      "cell_type": "markdown",
      "metadata": {
        "id": "gwyqjAPLJ9Ak"
      },
      "source": [
        "# Cargar datos\n",
        "\n",
        "\n",
        "Ejecute el siguiente bloque para descargar los datos.\n"
      ]
    },
    {
      "cell_type": "code",
      "metadata": {
        "id": "Bru5eIQUJ8XK",
        "jupyter": {
          "outputs_hidden": false
        },
        "outputId": "fa01e366-e82a-4a25-95c9-ecec2f652054",
        "colab": {
          "base_uri": "https://localhost:8080/",
          "height": 204
        }
      },
      "source": [
        "!wget https://users.dcc.uchile.cl/~mquezada/diplomado-2018/default_payments_data.csv"
      ],
      "execution_count": null,
      "outputs": [
        {
          "output_type": "stream",
          "text": [
            "--2019-10-07 23:22:35--  https://users.dcc.uchile.cl/~mquezada/diplomado-2018/default_payments_data.csv\n",
            "Resolving users.dcc.uchile.cl (users.dcc.uchile.cl)... 192.80.24.4\n",
            "Connecting to users.dcc.uchile.cl (users.dcc.uchile.cl)|192.80.24.4|:443... connected.\n",
            "HTTP request sent, awaiting response... 200 OK\n",
            "Length: 2897294 (2.8M) [text/csv]\n",
            "Saving to: ‘default_payments_data.csv’\n",
            "\n",
            "default_payments_da 100%[===================>]   2.76M  2.03MB/s    in 1.4s    \n",
            "\n",
            "2019-10-07 23:22:37 (2.03 MB/s) - ‘default_payments_data.csv’ saved [2897294/2897294]\n",
            "\n"
          ],
          "name": "stdout"
        }
      ]
    },
    {
      "cell_type": "markdown",
      "metadata": {
        "id": "bCR-jcdYKEj5"
      },
      "source": [
        "# Parte 1: Clasificación"
      ]
    },
    {
      "cell_type": "markdown",
      "metadata": {
        "id": "8kHXVhkIKR2I"
      },
      "source": [
        "Los datos corresponden a comportamiento de pago de tarjeta de crédito. Las columnas relevantes son las siguientes:\n",
        "\n",
        "- LIMIT_BAL: Monto del crédito\n",
        "- SEX: 1: hombre, 2: mujer\n",
        "- MARRIAGE: 1: casado, 2: soltero, 3: otro\n",
        "- EDUCATION: 1: postgrado, 2: universitario, 3: ed. media, 4: otros\n",
        "- PAY_0...PAY_6: Historial de pagos anteriores, numero de meses de retraso o de pago adelantado\n",
        "- BILL_AMT_1...BILL_AMT6: Valores de la cuenta de 6 meses\n",
        "- PAY_AMT1...PAY_AMT6: Pagos de la cuenta de 6 meses\n",
        "- **default payment next month**: indica si la persona no pagó al mes siguiente (1) o si pagó (0)"
      ]
    },
    {
      "cell_type": "markdown",
      "metadata": {
        "id": "i_pPOa0bZj6w"
      },
      "source": [
        "Cargamos los datos y desplegamos las primeras 5 filas"
      ]
    },
    {
      "cell_type": "code",
      "metadata": {
        "id": "jfkWALjxI9v9",
        "jupyter": {
          "outputs_hidden": false
        },
        "outputId": "97578031-e1f7-4e2b-cbd6-2c7ddd07a49f",
        "colab": {
          "base_uri": "https://localhost:8080/",
          "height": 275
        }
      },
      "source": [
        "import pandas as pd\n",
        "\n",
        "\n",
        "df = pd.read_csv('default_payments_data.csv', skiprows=1)\n",
        "df.head()"
      ],
      "execution_count": null,
      "outputs": [
        {
          "output_type": "execute_result",
          "data": {
            "text/html": [
              "<div>\n",
              "<style scoped>\n",
              "    .dataframe tbody tr th:only-of-type {\n",
              "        vertical-align: middle;\n",
              "    }\n",
              "\n",
              "    .dataframe tbody tr th {\n",
              "        vertical-align: top;\n",
              "    }\n",
              "\n",
              "    .dataframe thead th {\n",
              "        text-align: right;\n",
              "    }\n",
              "</style>\n",
              "<table border=\"1\" class=\"dataframe\">\n",
              "  <thead>\n",
              "    <tr style=\"text-align: right;\">\n",
              "      <th></th>\n",
              "      <th>ID</th>\n",
              "      <th>LIMIT_BAL</th>\n",
              "      <th>SEX</th>\n",
              "      <th>EDUCATION</th>\n",
              "      <th>MARRIAGE</th>\n",
              "      <th>AGE</th>\n",
              "      <th>PAY_0</th>\n",
              "      <th>PAY_2</th>\n",
              "      <th>PAY_3</th>\n",
              "      <th>PAY_4</th>\n",
              "      <th>PAY_5</th>\n",
              "      <th>PAY_6</th>\n",
              "      <th>BILL_AMT1</th>\n",
              "      <th>BILL_AMT2</th>\n",
              "      <th>BILL_AMT3</th>\n",
              "      <th>BILL_AMT4</th>\n",
              "      <th>BILL_AMT5</th>\n",
              "      <th>BILL_AMT6</th>\n",
              "      <th>PAY_AMT1</th>\n",
              "      <th>PAY_AMT2</th>\n",
              "      <th>PAY_AMT3</th>\n",
              "      <th>PAY_AMT4</th>\n",
              "      <th>PAY_AMT5</th>\n",
              "      <th>PAY_AMT6</th>\n",
              "      <th>default payment next month</th>\n",
              "    </tr>\n",
              "  </thead>\n",
              "  <tbody>\n",
              "    <tr>\n",
              "      <th>0</th>\n",
              "      <td>1</td>\n",
              "      <td>20000</td>\n",
              "      <td>2</td>\n",
              "      <td>2</td>\n",
              "      <td>1</td>\n",
              "      <td>24</td>\n",
              "      <td>2</td>\n",
              "      <td>2</td>\n",
              "      <td>-1</td>\n",
              "      <td>-1</td>\n",
              "      <td>-2</td>\n",
              "      <td>-2</td>\n",
              "      <td>3913</td>\n",
              "      <td>3102</td>\n",
              "      <td>689</td>\n",
              "      <td>0</td>\n",
              "      <td>0</td>\n",
              "      <td>0</td>\n",
              "      <td>0</td>\n",
              "      <td>689</td>\n",
              "      <td>0</td>\n",
              "      <td>0</td>\n",
              "      <td>0</td>\n",
              "      <td>0</td>\n",
              "      <td>1</td>\n",
              "    </tr>\n",
              "    <tr>\n",
              "      <th>1</th>\n",
              "      <td>2</td>\n",
              "      <td>120000</td>\n",
              "      <td>2</td>\n",
              "      <td>2</td>\n",
              "      <td>2</td>\n",
              "      <td>26</td>\n",
              "      <td>-1</td>\n",
              "      <td>2</td>\n",
              "      <td>0</td>\n",
              "      <td>0</td>\n",
              "      <td>0</td>\n",
              "      <td>2</td>\n",
              "      <td>2682</td>\n",
              "      <td>1725</td>\n",
              "      <td>2682</td>\n",
              "      <td>3272</td>\n",
              "      <td>3455</td>\n",
              "      <td>3261</td>\n",
              "      <td>0</td>\n",
              "      <td>1000</td>\n",
              "      <td>1000</td>\n",
              "      <td>1000</td>\n",
              "      <td>0</td>\n",
              "      <td>2000</td>\n",
              "      <td>1</td>\n",
              "    </tr>\n",
              "    <tr>\n",
              "      <th>2</th>\n",
              "      <td>3</td>\n",
              "      <td>90000</td>\n",
              "      <td>2</td>\n",
              "      <td>2</td>\n",
              "      <td>2</td>\n",
              "      <td>34</td>\n",
              "      <td>0</td>\n",
              "      <td>0</td>\n",
              "      <td>0</td>\n",
              "      <td>0</td>\n",
              "      <td>0</td>\n",
              "      <td>0</td>\n",
              "      <td>29239</td>\n",
              "      <td>14027</td>\n",
              "      <td>13559</td>\n",
              "      <td>14331</td>\n",
              "      <td>14948</td>\n",
              "      <td>15549</td>\n",
              "      <td>1518</td>\n",
              "      <td>1500</td>\n",
              "      <td>1000</td>\n",
              "      <td>1000</td>\n",
              "      <td>1000</td>\n",
              "      <td>5000</td>\n",
              "      <td>0</td>\n",
              "    </tr>\n",
              "    <tr>\n",
              "      <th>3</th>\n",
              "      <td>4</td>\n",
              "      <td>50000</td>\n",
              "      <td>2</td>\n",
              "      <td>2</td>\n",
              "      <td>1</td>\n",
              "      <td>37</td>\n",
              "      <td>0</td>\n",
              "      <td>0</td>\n",
              "      <td>0</td>\n",
              "      <td>0</td>\n",
              "      <td>0</td>\n",
              "      <td>0</td>\n",
              "      <td>46990</td>\n",
              "      <td>48233</td>\n",
              "      <td>49291</td>\n",
              "      <td>28314</td>\n",
              "      <td>28959</td>\n",
              "      <td>29547</td>\n",
              "      <td>2000</td>\n",
              "      <td>2019</td>\n",
              "      <td>1200</td>\n",
              "      <td>1100</td>\n",
              "      <td>1069</td>\n",
              "      <td>1000</td>\n",
              "      <td>0</td>\n",
              "    </tr>\n",
              "    <tr>\n",
              "      <th>4</th>\n",
              "      <td>5</td>\n",
              "      <td>50000</td>\n",
              "      <td>1</td>\n",
              "      <td>2</td>\n",
              "      <td>1</td>\n",
              "      <td>57</td>\n",
              "      <td>-1</td>\n",
              "      <td>0</td>\n",
              "      <td>-1</td>\n",
              "      <td>0</td>\n",
              "      <td>0</td>\n",
              "      <td>0</td>\n",
              "      <td>8617</td>\n",
              "      <td>5670</td>\n",
              "      <td>35835</td>\n",
              "      <td>20940</td>\n",
              "      <td>19146</td>\n",
              "      <td>19131</td>\n",
              "      <td>2000</td>\n",
              "      <td>36681</td>\n",
              "      <td>10000</td>\n",
              "      <td>9000</td>\n",
              "      <td>689</td>\n",
              "      <td>679</td>\n",
              "      <td>0</td>\n",
              "    </tr>\n",
              "  </tbody>\n",
              "</table>\n",
              "</div>"
            ],
            "text/plain": [
              "   ID  LIMIT_BAL  SEX  ...  PAY_AMT5  PAY_AMT6  default payment next month\n",
              "0   1      20000    2  ...         0         0                           1\n",
              "1   2     120000    2  ...         0      2000                           1\n",
              "2   3      90000    2  ...      1000      5000                           0\n",
              "3   4      50000    2  ...      1069      1000                           0\n",
              "4   5      50000    1  ...       689       679                           0\n",
              "\n",
              "[5 rows x 25 columns]"
            ]
          },
          "metadata": {
            "tags": []
          },
          "execution_count": 2
        }
      ]
    },
    {
      "cell_type": "markdown",
      "metadata": {
        "id": "B6oHQL8sZoqn"
      },
      "source": [
        "Distribución de clases (dadas por la última columna, `default payment next month`)\n"
      ]
    },
    {
      "cell_type": "code",
      "metadata": {
        "id": "7JO1ylxKJGbS",
        "jupyter": {
          "outputs_hidden": false
        },
        "outputId": "d94ea42f-f308-4f3f-9c7b-60201f30dd89",
        "colab": {
          "base_uri": "https://localhost:8080/",
          "height": 68
        }
      },
      "source": [
        "# distribucion de clases\n",
        "# vemos que estan en relacion ~ 4:1\n",
        "\n",
        "df['default payment next month'].value_counts()\n"
      ],
      "execution_count": null,
      "outputs": [
        {
          "output_type": "execute_result",
          "data": {
            "text/plain": [
              "0    23364\n",
              "1     6636\n",
              "Name: default payment next month, dtype: int64"
            ]
          },
          "metadata": {
            "tags": []
          },
          "execution_count": 3
        }
      ]
    },
    {
      "cell_type": "markdown",
      "metadata": {
        "id": "4QY9Ie7EZvuk"
      },
      "source": [
        "Separamos los datos en X e y (data y target)"
      ]
    },
    {
      "cell_type": "code",
      "metadata": {
        "id": "4SB0XUz_NspN"
      },
      "source": [
        "# separamos los datos en X e y:\n",
        "# para X, no consideramos ni la columna ID ni la ultima columna\n",
        "X = df.loc[:, 'LIMIT_BAL':'PAY_AMT6']\n",
        "\n",
        "\n",
        "y = df['default payment next month']"
      ],
      "execution_count": null,
      "outputs": []
    },
    {
      "cell_type": "markdown",
      "metadata": {
        "id": "2fENDZ20Z0ZO"
      },
      "source": [
        "Separamos los datos en dataset de entrenamiento (train) y de evaluación (test) y vemos la distribución de clases"
      ]
    },
    {
      "cell_type": "code",
      "metadata": {
        "id": "qhQG65YVNs1O",
        "jupyter": {
          "outputs_hidden": false
        },
        "outputId": "1c5c6c6e-d5a0-40a2-df2b-cd0f522da173",
        "colab": {
          "base_uri": "https://localhost:8080/",
          "height": 170
        }
      },
      "source": [
        "from sklearn.model_selection import train_test_split\n",
        "\n",
        "\n",
        "X_train, X_test, y_train, y_test = train_test_split(X, y,\n",
        "                                                    test_size=.33,\n",
        "                                                    random_state=37,\n",
        "                                                    stratify=y)\n",
        "\n",
        "print(\"Distribución de clases en train:\")\n",
        "print(y_train.value_counts())\n",
        "\n",
        "print()\n",
        "\n",
        "print(\"Distribución de clases en test\")\n",
        "print(y_test.value_counts())\n"
      ],
      "execution_count": null,
      "outputs": [
        {
          "output_type": "stream",
          "text": [
            "Distribución de clases en train:\n",
            "0    15654\n",
            "1     4446\n",
            "Name: default payment next month, dtype: int64\n",
            "\n",
            "Distribución de clases en test\n",
            "0    7710\n",
            "1    2190\n",
            "Name: default payment next month, dtype: int64\n"
          ],
          "name": "stdout"
        }
      ]
    },
    {
      "cell_type": "markdown",
      "metadata": {
        "id": "nwfW1hgsY1Iz"
      },
      "source": [
        "## Pregunta 1\n",
        "\n",
        "**Edite el código abajo, completando donde se indica, de manera de entrenar un árbol de decisión y evaluarlo.**\n",
        "\n",
        "**Explique brevemente, ¿qué hace `clf.fit` y `clf.predict`?**"
      ]
    },
    {
      "cell_type": "code",
      "metadata": {
        "id": "q5iK2IoSNs37",
        "jupyter": {
          "outputs_hidden": false
        }
      },
      "source": [
        "## EDITAR DONDE SE INDICA\n",
        "\n",
        "from sklearn.tree import DecisionTreeClassifier\n",
        "from sklearn.metrics import classification_report, accuracy_score\n",
        "\n",
        "\n",
        "clf = DecisionTreeClassifier(random_state=37)\n",
        "clf = clf.fit(X_train, y_train)  # <-----\n",
        "\n",
        "\n",
        "y_pred = clf.predict(X_test)   # <------\n",
        "\n",
        "print(\"Accuracy:\", accuracy_score(y_test, y_pred))"
      ],
      "execution_count": null,
      "outputs": []
    },
    {
      "cell_type": "markdown",
      "metadata": {
        "id": "klgjru8EaVf_"
      },
      "source": [
        "Hacer doble click aquí para editar el bloque y escribir su respuesta\n",
        "\n",
        "\n",
        "`clf.fit`:\n",
        "\n",
        "`clf.predict`:"
      ]
    },
    {
      "cell_type": "markdown",
      "metadata": {
        "id": "u755CbbadDhr"
      },
      "source": [
        "## Pregunta 2\n",
        "\n",
        "**Proponga un clasificador simple que obtenga mejor accuracy en el test set.**"
      ]
    },
    {
      "cell_type": "markdown",
      "metadata": {
        "id": "-adBHxfAdkLS"
      },
      "source": [
        "Hacer doble click sobre este bloque para editarlo y escribir su respuesta"
      ]
    },
    {
      "cell_type": "markdown",
      "metadata": {
        "id": "oq97t_Y4at7A"
      },
      "source": [
        "## Pregunta 3\n",
        "\n",
        "**Dado el siguiente reporte de clasificación, explique brevemente qué significa que la clase `1` tenga un 40% (0.4) de recall con respecto a los datos**."
      ]
    },
    {
      "cell_type": "code",
      "metadata": {
        "id": "cxaL2zYSNs6h",
        "jupyter": {
          "outputs_hidden": false
        }
      },
      "source": [
        "print(classification_report(y_test, y_pred))"
      ],
      "execution_count": null,
      "outputs": []
    },
    {
      "cell_type": "markdown",
      "metadata": {
        "id": "JUfIUstFbqRC"
      },
      "source": [
        "Hacer doble click sobre este bloque para editarlo y escribir su respuesta"
      ]
    },
    {
      "cell_type": "markdown",
      "metadata": {
        "id": "l2nUYjkbdGZL"
      },
      "source": [
        "# Parte 2: Selección de modelo y cross-validation\n",
        "\n",
        "El siguiente código calcula la precisión para la clase 1 en el conjunto de entrenamiento, la precisión usando 5-folds cross-validation, y la precisión en el conjunto de prueba que separamos inicialmente.\n",
        "\n",
        "En este caso, calcula la precisión para muchos valores distintos de uno de los parámetros del árbol de decisión, el `min_samples_leaf`. Este parámetro determina cuántos elementos quedarán en las hojas (los nodos finales) del árbol. Un valor alto indica que en las hojas puede haber varias instancias (filas, observaciones) de los datos, por lo que posiblemente no están todas bien clasificadas. Por el contrario, un valor bajo indica que el entrenamiento tratará de clasificar más instancias de forma correcta. Observa que un valor bajo implica un modelo más complejo.\n"
      ]
    },
    {
      "cell_type": "code",
      "metadata": {
        "id": "rF1X8ZBvNs8t",
        "jupyter": {
          "outputs_hidden": false
        }
      },
      "source": [
        "## Ejecutar (no modificar) este código\n",
        "## (demora unos 30 segundos en Colab)\n",
        "## te recomiendo leer este código con sus comentarios después del laboratorio para entender mejor qué se está haciendo\n",
        "\n",
        "\n",
        "from sklearn.model_selection import cross_validate\n",
        "from sklearn.tree import DecisionTreeClassifier\n",
        "from sklearn.metrics import precision_score\n",
        "\n",
        "import numpy as np\n",
        "\n",
        "\n",
        "### definimos un diccionario donde guardaremos los resultados\n",
        "\n",
        "results = {\n",
        "    \"min_samples_leaf\": [],  # el valor del parámetro\n",
        "    \"type\": [],              # si es train, test, o cross-validation\n",
        "    \"score\": []              # la precision [promedio]\n",
        "}\n",
        "\n",
        "min_samples_leaf_range = range(1, 211, 10)   # definimos un rango entre 1 y 201, cada 10, es decir: 1, 11, .. 201\n",
        "\n",
        "for x in min_samples_leaf_range:   # iteramos sobre los elementos del rango\n",
        "  clf = DecisionTreeClassifier(random_state=37, min_samples_leaf=x)  # instanciamos un arbol usando el parámetro min_samples_leaf de la iteración actual\n",
        "\n",
        "  # cross_validate retorna un diccionario con las medidas en train, y \"test\" por cada fold (que corresponde al valor en el k-esimo fold usado para evaluar)\n",
        "  scores_train_val = cross_validate(clf,      # el clasificador que queremos usar\n",
        "                                    X_train,  # le pasamos los datos de entrenamiento para hacer cross-validation\n",
        "                                    y_train,\n",
        "                                    cv=5,     # 5 folds\n",
        "                                    n_jobs=-1,                 # indica cuántas CPU queremos usar (para paralelizar el proceso), -1 indica que use todas las disponibles\n",
        "                                    return_train_score=True,   # indica que retorne el score en el train set\n",
        "                                    scoring=\"precision\")       # scoring=\"precision\" por defecto entrega la precision en la clase \"1\", que es lo que queremos en este caso\n",
        "\n",
        "  precision_val = np.mean(scores_train_val['test_score'])     # promedio de los precision en el k-esimo fold (5 valores)\n",
        "  precision_train = np.mean(scores_train_val['train_score'])  # promedio de los precision en el train set (5 valores)\n",
        "\n",
        "  clf_ = clf.fit(X_train, y_train)       #  entrenamos el clasificador usando todo el train\n",
        "  y_pred = clf_.predict(X_test)          #  ahora usamos el conjunto de evaluacion\n",
        "\n",
        "  precision_test = precision_score(y_test, y_pred)    # computamos precision en el test set\n",
        "\n",
        "  # guarda los resultados\n",
        "  results['min_samples_leaf'].append(x)\n",
        "  results['type'].append('train')\n",
        "  results['score'].append(precision_train)\n",
        "\n",
        "  results['min_samples_leaf'].append(x)\n",
        "  results['type'].append('cross-validation')\n",
        "  results['score'].append(precision_val)\n",
        "\n",
        "  results['min_samples_leaf'].append(x)\n",
        "  results['type'].append('test')\n",
        "  results['score'].append(precision_test)"
      ],
      "execution_count": null,
      "outputs": []
    },
    {
      "cell_type": "code",
      "metadata": {
        "id": "KWU88lPgj2Ni",
        "jupyter": {
          "outputs_hidden": false
        },
        "outputId": "f9684363-25f3-4784-80d3-e316a4ad7c79",
        "colab": {
          "base_uri": "https://localhost:8080/",
          "height": 525
        }
      },
      "source": [
        "## este codigo grafica los resultados a partir del bloque anterior\n",
        "\n",
        "\n",
        "import seaborn as sns\n",
        "import matplotlib.pyplot as plt\n",
        "\n",
        "sns.set()\n",
        "\n",
        "plt.figure(figsize=(12, 8))\n",
        "ax = sns.lineplot(x=\"min_samples_leaf\", y=\"score\", hue=\"type\", data=results)\n",
        "ax.set(xlabel=\"min_samples_leaf\", ylabel=\"precision en clase 1\")\n",
        "\n",
        "ax"
      ],
      "execution_count": null,
      "outputs": [
        {
          "output_type": "execute_result",
          "data": {
            "text/plain": [
              "<matplotlib.axes._subplots.AxesSubplot at 0x7fda4990d898>"
            ]
          },
          "metadata": {
            "tags": []
          },
          "execution_count": 7
        },
        {
          "output_type": "display_data",
          "data": {
            "image/png": "[encoded data removed]",
            "text/plain": [
              "<Figure size 864x576 with 1 Axes>"
            ]
          },
          "metadata": {
            "tags": []
          }
        }
      ]
    },
    {
      "cell_type": "markdown",
      "metadata": {
        "id": "sZ2HhGIgLk3R"
      },
      "source": [
        "## Pregunta 4\n",
        "\n",
        "**A partir del gráfico anterior, indique ¿qué valor (aproximado) o rango de valores de `min_samples_leaf` considera que es apropiado para el modelo y por qué?**"
      ]
    },
    {
      "cell_type": "markdown",
      "metadata": {
        "id": "FoZK_laML1Op"
      },
      "source": [
        "Hacer doble click sobre este bloque para editarlo y escribir su respuesta\n",
        "\n"
      ]
    },
    {
      "cell_type": "markdown",
      "metadata": {
        "id": "micTM1_GL3Ub"
      },
      "source": [
        "## Pregunta 5\n",
        "\n",
        "**A partir del gŕafico, ¿Qué puede concluir con respecto a la relación entre el rendimiento del clasificador en el test set y el de cross-validation?**"
      ]
    },
    {
      "cell_type": "markdown",
      "metadata": {
        "id": "ZoJ3EVUhMJf3"
      },
      "source": [
        "Hacer doble click sobre este bloque para editarlo y escribir su respuesta\n",
        "\n"
      ]
    },
    {
      "cell_type": "markdown",
      "metadata": {
        "id": "86dRyzQae1BS"
      },
      "source": [
        "## Pregunta 6\n",
        "\n",
        "**Usando el valor de `min_samples_leaf` escogido más arriba (o alguno dentro del rango escogido), y el mismo `random_state`, entrene un árbol de decisión.**\n",
        "\n",
        "**Compare los reportes de clasificación entre este modelo y el usado al comienzo del laboratorio. El nuevo modelo, ¿en qué mejora?, ¿en qué empeora? Explique.**"
      ]
    },
    {
      "cell_type": "code",
      "metadata": {
        "id": "8ce_D-A0ktqM"
      },
      "source": [
        "from sklearn.metrics import classification_report\n",
        "\n",
        "MIN_SAMPLES_LEAF = ? # <---- indicar el valor de min_samples_leaf\n",
        "\n",
        "clf = DecisionTreeClassifier(random_state=37, min_samples_leaf=MIN_SAMPLES_LEAF)\n",
        "clf = clf.fit(X_train, y_train)\n",
        "\n",
        "y_pred = clf.predict(X_test)\n",
        "\n",
        "print(classification_report(y_test, y_pred))"
      ],
      "execution_count": null,
      "outputs": []
    },
    {
      "cell_type": "markdown",
      "metadata": {
        "id": "oTusvCqam5e1"
      },
      "source": [
        "Hacer doble click sobre este bloque para editarlo y escribir su respuesta"
      ]
    },
    {
      "cell_type": "markdown",
      "metadata": {
        "id": "Rio6Q89imQbo"
      },
      "source": [
        "\n",
        "\n",
        "---\n",
        "\n"
      ]
    },
    {
      "cell_type": "markdown",
      "metadata": {
        "id": "yAHfbDqbmL1e"
      },
      "source": [
        "## Bonus opcional 1\n",
        "\n",
        "El siguiente código genera una _curva de aprendizaje_, que muestra el rendimiento de un clasificador a medida que agregamos más datos.\n",
        "\n",
        "Describa con sus palabras qué muestra el gráfico, y una observación sobre lo que está mostrando."
      ]
    },
    {
      "cell_type": "code",
      "metadata": {
        "id": "cxSZq-JCVR9s",
        "jupyter": {
          "outputs_hidden": false
        }
      },
      "source": [
        "## este código demora aprox. 1 minuto en Colab\n",
        "## Fuente: https://chrisalbon.com/machine_learning/model_evaluation/plot_the_learning_curve/\n",
        "\n",
        "from sklearn.model_selection import learning_curve\n",
        "\n",
        "train_sizes, train_scores, test_scores = learning_curve(DecisionTreeClassifier(random_state=37, min_samples_leaf=120),\n",
        "                                                        X,\n",
        "                                                        y,\n",
        "                                                        # Number of folds in cross-validation\n",
        "                                                        cv=10,\n",
        "                                                        # Evaluation metric\n",
        "                                                        scoring='precision',\n",
        "                                                        # Use all computer cores\n",
        "                                                        n_jobs=-1,\n",
        "                                                        # 50 different sizes of the training set\n",
        "                                                        train_sizes=np.linspace(0.01, 1.0, 50))\n",
        "\n",
        "# Create means and standard deviations of training set scores\n",
        "train_mean = np.mean(train_scores, axis=1)\n",
        "train_std = np.std(train_scores, axis=1)\n",
        "\n",
        "# Create means and standard deviations of test set scores\n",
        "test_mean = np.mean(test_scores, axis=1)\n",
        "test_std = np.std(test_scores, axis=1)\n",
        "\n",
        "plt.figure(figsize=(8, 6))\n",
        "\n",
        "# Draw lines\n",
        "plt.plot(train_sizes, train_mean, '--', color=\"#111111\",  label=\"Training score\")\n",
        "plt.plot(train_sizes, test_mean, color=\"#111111\", label=\"Cross-validation score\")\n",
        "\n",
        "# Draw bands\n",
        "plt.fill_between(train_sizes, train_mean - train_std, train_mean + train_std, color=\"#DDDDDD\")\n",
        "plt.fill_between(train_sizes, test_mean - test_std, test_mean + test_std, color=\"#DDDDDD\")\n",
        "\n",
        "# Create plot\n",
        "plt.title(\"Learning Curve\")\n",
        "plt.xlabel(\"Training Set Size\"), plt.ylabel(\"Precision Score @ class 1\"), plt.legend(loc=\"best\")\n",
        "plt.tight_layout()\n",
        "plt.show()"
      ],
      "execution_count": null,
      "outputs": []
    },
    {
      "cell_type": "markdown",
      "metadata": {
        "id": "31Okr1zvmrUM"
      },
      "source": [
        "Hacer doble click sobre este bloque para editarlo y escribir su respuesta"
      ]
    },
    {
      "cell_type": "markdown",
      "metadata": {
        "id": "uE4S3JEgm71q"
      },
      "source": [
        "\n",
        "\n",
        "---\n",
        "\n"
      ]
    },
    {
      "cell_type": "markdown",
      "metadata": {
        "id": "LipVXdr2m8zI"
      },
      "source": [
        "## Bonus opcional 2\n",
        "\n",
        "Suponga que tenemos un dataset que consiste en una _serie de tiempo_, es decir, las observaciones siguen un orden específico, como por ejemplo, el precio de una acción en la bolsa o las condiciones del clima de una ciudad.\n",
        "\n",
        "¿Por qué no es posible hacer holdout o cross-validation sobre este tipo de datos? Proponga una modificación a holdout y a cross-validation para poder trabajar sobre series de tiempo."
      ]
    },
    {
      "cell_type": "markdown",
      "metadata": {
        "id": "d4OiWFO4najF"
      },
      "source": [
        "Hacer doble click sobre este bloque para editarlo y escribir su respuesta"
      ]
    },
    {
      "cell_type": "code",
      "metadata": {
        "id": "SHrSo8t6jjp3"
      },
      "source": [],
      "execution_count": null,
      "outputs": []
    }
  ]
}